{
 "cells": [
  {
   "cell_type": "code",
   "execution_count": 3,
   "metadata": {},
   "outputs": [
    {
     "data": {
      "text/html": [
       "<div>\n",
       "<style scoped>\n",
       "    .dataframe tbody tr th:only-of-type {\n",
       "        vertical-align: middle;\n",
       "    }\n",
       "\n",
       "    .dataframe tbody tr th {\n",
       "        vertical-align: top;\n",
       "    }\n",
       "\n",
       "    .dataframe thead th {\n",
       "        text-align: right;\n",
       "    }\n",
       "</style>\n",
       "<table border=\"1\" class=\"dataframe\">\n",
       "  <thead>\n",
       "    <tr style=\"text-align: right;\">\n",
       "      <th></th>\n",
       "      <th>count</th>\n",
       "      <th>mean</th>\n",
       "      <th>std</th>\n",
       "      <th>min</th>\n",
       "      <th>25%</th>\n",
       "      <th>50%</th>\n",
       "      <th>75%</th>\n",
       "      <th>max</th>\n",
       "    </tr>\n",
       "  </thead>\n",
       "  <tbody>\n",
       "    <tr>\n",
       "      <th>SquareFeet</th>\n",
       "      <td>50000.0</td>\n",
       "      <td>2006.374680</td>\n",
       "      <td>575.513241</td>\n",
       "      <td>1000.000000</td>\n",
       "      <td>1513.000000</td>\n",
       "      <td>2007.000000</td>\n",
       "      <td>2506.000000</td>\n",
       "      <td>2999.000000</td>\n",
       "    </tr>\n",
       "    <tr>\n",
       "      <th>Bedrooms</th>\n",
       "      <td>50000.0</td>\n",
       "      <td>3.498700</td>\n",
       "      <td>1.116326</td>\n",
       "      <td>2.000000</td>\n",
       "      <td>3.000000</td>\n",
       "      <td>3.000000</td>\n",
       "      <td>4.000000</td>\n",
       "      <td>5.000000</td>\n",
       "    </tr>\n",
       "    <tr>\n",
       "      <th>Bathrooms</th>\n",
       "      <td>50000.0</td>\n",
       "      <td>1.995420</td>\n",
       "      <td>0.815851</td>\n",
       "      <td>1.000000</td>\n",
       "      <td>1.000000</td>\n",
       "      <td>2.000000</td>\n",
       "      <td>3.000000</td>\n",
       "      <td>3.000000</td>\n",
       "    </tr>\n",
       "    <tr>\n",
       "      <th>YearBuilt</th>\n",
       "      <td>50000.0</td>\n",
       "      <td>1985.404420</td>\n",
       "      <td>20.719377</td>\n",
       "      <td>1950.000000</td>\n",
       "      <td>1967.000000</td>\n",
       "      <td>1985.000000</td>\n",
       "      <td>2003.000000</td>\n",
       "      <td>2021.000000</td>\n",
       "    </tr>\n",
       "    <tr>\n",
       "      <th>Price</th>\n",
       "      <td>50000.0</td>\n",
       "      <td>224827.325151</td>\n",
       "      <td>76141.842966</td>\n",
       "      <td>-36588.165397</td>\n",
       "      <td>169955.860225</td>\n",
       "      <td>225052.141166</td>\n",
       "      <td>279373.630052</td>\n",
       "      <td>492195.259972</td>\n",
       "    </tr>\n",
       "  </tbody>\n",
       "</table>\n",
       "</div>"
      ],
      "text/plain": [
       "              count           mean           std           min            25%  \\\n",
       "SquareFeet  50000.0    2006.374680    575.513241   1000.000000    1513.000000   \n",
       "Bedrooms    50000.0       3.498700      1.116326      2.000000       3.000000   \n",
       "Bathrooms   50000.0       1.995420      0.815851      1.000000       1.000000   \n",
       "YearBuilt   50000.0    1985.404420     20.719377   1950.000000    1967.000000   \n",
       "Price       50000.0  224827.325151  76141.842966 -36588.165397  169955.860225   \n",
       "\n",
       "                      50%            75%            max  \n",
       "SquareFeet    2007.000000    2506.000000    2999.000000  \n",
       "Bedrooms         3.000000       4.000000       5.000000  \n",
       "Bathrooms        2.000000       3.000000       3.000000  \n",
       "YearBuilt     1985.000000    2003.000000    2021.000000  \n",
       "Price       225052.141166  279373.630052  492195.259972  "
      ]
     },
     "execution_count": 3,
     "metadata": {},
     "output_type": "execute_result"
    }
   ],
   "source": [
    "import pandas as pd\n",
    "\n",
    "df = pd.read_csv('housing_price_dataset.csv')\n",
    "\n",
    "#descriptive statistics\n",
    "df.describe().T\n"
   ]
  },
  {
   "cell_type": "code",
   "execution_count": 8,
   "metadata": {},
   "outputs": [
    {
     "data": {
      "text/html": [
       "<div>\n",
       "<style scoped>\n",
       "    .dataframe tbody tr th:only-of-type {\n",
       "        vertical-align: middle;\n",
       "    }\n",
       "\n",
       "    .dataframe tbody tr th {\n",
       "        vertical-align: top;\n",
       "    }\n",
       "\n",
       "    .dataframe thead th {\n",
       "        text-align: right;\n",
       "    }\n",
       "</style>\n",
       "<table border=\"1\" class=\"dataframe\">\n",
       "  <thead>\n",
       "    <tr style=\"text-align: right;\">\n",
       "      <th></th>\n",
       "      <th>count</th>\n",
       "      <th>unique</th>\n",
       "      <th>top</th>\n",
       "      <th>freq</th>\n",
       "    </tr>\n",
       "  </thead>\n",
       "  <tbody>\n",
       "    <tr>\n",
       "      <th>Neighborhood</th>\n",
       "      <td>50000</td>\n",
       "      <td>3</td>\n",
       "      <td>Suburb</td>\n",
       "      <td>16721</td>\n",
       "    </tr>\n",
       "  </tbody>\n",
       "</table>\n",
       "</div>"
      ],
      "text/plain": [
       "              count unique     top   freq\n",
       "Neighborhood  50000      3  Suburb  16721"
      ]
     },
     "execution_count": 8,
     "metadata": {},
     "output_type": "execute_result"
    }
   ],
   "source": [
    "#descriptive statistics of object\n",
    "df.describe( include = object).T"
   ]
  },
  {
   "cell_type": "code",
   "execution_count": null,
   "metadata": {},
   "outputs": [],
   "source": []
  }
 ],
 "metadata": {
  "kernelspec": {
   "display_name": "Python 3",
   "language": "python",
   "name": "python3"
  },
  "language_info": {
   "codemirror_mode": {
    "name": "ipython",
    "version": 3
   },
   "file_extension": ".py",
   "mimetype": "text/x-python",
   "name": "python",
   "nbconvert_exporter": "python",
   "pygments_lexer": "ipython3",
   "version": "3.12.5"
  }
 },
 "nbformat": 4,
 "nbformat_minor": 2
}
