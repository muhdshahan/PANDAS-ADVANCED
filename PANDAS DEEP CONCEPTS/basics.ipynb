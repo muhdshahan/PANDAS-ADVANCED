{
 "cells": [
  {
   "cell_type": "code",
   "execution_count": 62,
   "metadata": {},
   "outputs": [
    {
     "name": "stdout",
     "output_type": "stream",
     "text": [
      "     name  age\n",
      "A   sinan   18\n",
      "B    arjo   21\n",
      "C  shahan   22\n",
      "D  sahana   23\n",
      "\n",
      "    name  age\n",
      "A  sinan   18\n",
      "\n",
      "     name  age\n",
      "B    arjo   21\n",
      "C  shahan   22\n",
      "D  sahana   23\n",
      "\n",
      "<class 'pandas.core.frame.DataFrame'>\n",
      "Index: 4 entries, A to D\n",
      "Data columns (total 2 columns):\n",
      " #   Column  Non-Null Count  Dtype \n",
      "---  ------  --------------  ----- \n",
      " 0   name    4 non-null      object\n",
      " 1   age     4 non-null      int64 \n",
      "dtypes: int64(1), object(1)\n",
      "memory usage: 96.0+ bytes\n",
      "None\n",
      "             age\n",
      "count   4.000000\n",
      "mean   21.000000\n",
      "std     2.160247\n",
      "min    18.000000\n",
      "25%    20.250000\n",
      "50%    21.500000\n",
      "75%    22.250000\n",
      "max    23.000000\n"
     ]
    }
   ],
   "source": [
    "import pandas as pd\n",
    "\n",
    "data = { 'name' : ['sinan' , 'arjo' , 'shahan' , 'sahana'],\n",
    "          'age' : [18 , 21 , 22 , 23]}\n",
    "df = pd.DataFrame(data , index= ['A' , 'B' , 'C' , 'D'])\n",
    "\n",
    "print(df)\n",
    "print()\n",
    "print(df.head(1))\n",
    "print()\n",
    "print(df.tail(3))\n",
    "print()\n",
    "print(df.info())\n",
    "print(df.describe())"
   ]
  },
  {
   "cell_type": "markdown",
   "metadata": {},
   "source": [
    "Indexing and Selecting data"
   ]
  },
  {
   "cell_type": "code",
   "execution_count": 63,
   "metadata": {},
   "outputs": [
    {
     "name": "stdout",
     "output_type": "stream",
     "text": [
      "     name  age\n",
      "A   sinan   18\n",
      "B    arjo   21\n",
      "C  shahan   22\n",
      "D  sahana   23\n"
      "\n",
      "name    sinan\n",
      "age        18\n",
      "Name: A, dtype: object\n",
      "\n",
      "name    sahana\n",
      "age         23\n",
      "Name: D, dtype: object\n",
      "\n",
      "shahan\n",
      "\n",
      "23\n",
      "\n",
      "sharukh\n",
      "\n",
      "      name  age\n",
      "A    sinan   18\n",
      "B     arjo   21\n",
      "C   shahan   22\n",
      "D  sharukh   23\n"
     ]
    }
   ],
   "source": [
    "print(df)\n",
    "print()\n",
    "#integer based location\n",
    "print(df.iloc[0])\n",
    "print()\n",
    "#label based location\n",
    "print(df.loc['D'])\n",
    "print()\n",
    "#its also label based location but to access a single value so have to give label name and column name\n",
    "print(df.at['C' , 'name'])\n",
    "print()\n",
    "print(df.at['D' , 'age'])\n",
    "print()\n",
    "z = df.at['D' , 'name'] = 'sharukh'\n",
    "print(z)\n",
    "print()\n",
    "print(df)"
   ]
  },
  {
   "cell_type": "markdown",
   "metadata": {},
   "source": [
    "CREATE CSV FILE FOR PERFORMING OPERATIONS"
   ]
  },
  {
   "cell_type": "code",
   "execution_count": 70,
   "metadata": {},
   "outputs": [
    {
     "name": "stdout",
     "output_type": "stream",
     "text": [
      "    id         name   age             specialization\n",
      "0    2        shine   NaN              data engineer\n",
      "1    3     kunjacks    22                       <NA>\n",
      "2    4        sisly    32          flutter developer\n",
      "3    1        jonny    77          flutter developer\n",
      "4    5       daveed   NaN               data science\n",
      "5    6        lilly    18                       <NA>\n",
      "6    9  thomaskutty  <NA>          flutter developer\n",
      "7    8         mary    37                       None\n",
      "8    7        eesha    21               data science\n",
      "9   11        neena    38          flutter developer\n",
      "10  18  georgekutty  None               data science\n",
      "11  20     shoshama    27          flutter developer\n",
      "12  21       nithin    20  python mobile development\n"
     ]
    }
   ],
   "source": [
    "import pandas as pd\n",
    "import numpy as np\n",
    "\n",
    "\n",
    "employees = { 'id': [ 2,3,4,1,5,6,9,8,7,11,18,20,21],\n",
    "            'name' : ['shine' , 'kunjacks' , 'sisly' ,'jonny' ,'daveed' , 'lilly' ,'thomaskutty' , 'mary' ,  'eesha', 'neena' ,'georgekutty' , 'shoshama' ,  'nithin'],\n",
    "            'age' : [ np.nan , 22 , 32 , 77 , np.nan, 18 , pd.NA , 37, 21, 38 , None , 27, 20],\n",
    "            'specialization' : ['data engineer' , pd.NA ,'flutter developer' , 'flutter developer' ,'data science', pd.NA , 'flutter developer' , None ,'data science' , 'flutter developer' , 'data science' ,'flutter developer' , 'python mobile development']}\n",
    "\n",
    "emp = pd.DataFrame(employees)\n",
    "print(emp)\n",
    "\n",
    "emp.to_csv('employees.csv' , index = False , sep= ':')\n",
    "\n",
    "\n"
   ]
  },
  {
   "cell_type": "markdown",
   "metadata": {},
   "source": [
    "installing openpyxl and xlsxwriter to handle excel files"
   ]
  },
  {
   "cell_type": "code",
   "execution_count": 71,
   "metadata": {},
   "outputs": [
    {
     "name": "stdout",
     "output_type": "stream",
     "text": [
      "Collecting openpyxl\n",
      "  Downloading openpyxl-3.1.5-py2.py3-none-any.whl.metadata (2.5 kB)\n",
      "Collecting xlsxwriter\n",
      "  Downloading XlsxWriter-3.2.0-py3-none-any.whl.metadata (2.6 kB)\n",
      "Collecting et-xmlfile (from openpyxl)\n",
      "  Downloading et_xmlfile-1.1.0-py3-none-any.whl.metadata (1.8 kB)\n",
      "Downloading openpyxl-3.1.5-py2.py3-none-any.whl (250 kB)\n",
      "Downloading XlsxWriter-3.2.0-py3-none-any.whl (159 kB)\n",
      "Downloading et_xmlfile-1.1.0-py3-none-any.whl (4.7 kB)\n",
      "Installing collected packages: xlsxwriter, et-xmlfile, openpyxl\n",
      "Successfully installed et-xmlfile-1.1.0 openpyxl-3.1.5 xlsxwriter-3.2.0\n"
     ]
    }
   ],
   "source": [
    "!pip install openpyxl xlsxwriter"
   ]
  },
  {
   "cell_type": "markdown",
   "metadata": {},
   "source": [
    "CREATE EXCEL FILE FOR PERFORMING OPERATIONS"
   ]
  },
  {
   "cell_type": "code",
   "execution_count": 72,
   "metadata": {},
   "outputs": [],
   "source": [
    "emp.to_excel('employees.xlsx' , index = False)"
   ]
  },
  {
   "cell_type": "markdown",
   "metadata": {},
   "source": [
    "CONNECTING TO SQL"
   ]
  },
  {
   "cell_type": "code",
   "execution_count": 73,
   "metadata": {},
   "outputs": [
    {
     "name": "stdout",
     "output_type": "stream",
     "text": [
      "Collecting sqlalchemy\n",
      "  Downloading SQLAlchemy-2.0.35-cp312-cp312-win_amd64.whl.metadata (9.9 kB)\n",
      "Collecting typing-extensions>=4.6.0 (from sqlalchemy)\n",
      "  Downloading typing_extensions-4.12.2-py3-none-any.whl.metadata (3.0 kB)\n",
      "Collecting greenlet!=0.4.17 (from sqlalchemy)\n",
      "  Downloading greenlet-3.1.1-cp312-cp312-win_amd64.whl.metadata (3.9 kB)\n",
      "Downloading SQLAlchemy-2.0.35-cp312-cp312-win_amd64.whl (2.1 MB)\n",
      "   ---------------------------------------- 0.0/2.1 MB ? eta -:--:--\n",
      "   ----- ---------------------------------- 0.3/2.1 MB ? eta -:--:--\n",
      "   ---------- ----------------------------- 0.5/2.1 MB 1.5 MB/s eta 0:00:02\n",
      "   --------------- ------------------------ 0.8/2.1 MB 1.3 MB/s eta 0:00:01\n",
      "   -------------------- ------------------- 1.0/2.1 MB 1.3 MB/s eta 0:00:01\n",
      "   ------------------------- -------------- 1.3/2.1 MB 1.3 MB/s eta 0:00:01\n",
      "   ------------------------------ --------- 1.6/2.1 MB 1.3 MB/s eta 0:00:01\n",
      "   ----------------------------------- ---- 1.8/2.1 MB 1.3 MB/s eta 0:00:01\n",
      "   ---------------------------------------- 2.1/2.1 MB 1.3 MB/s eta 0:00:00\n",
      "Downloading greenlet-3.1.1-cp312-cp312-win_amd64.whl (299 kB)\n",
      "Downloading typing_extensions-4.12.2-py3-none-any.whl (37 kB)\n",
      "Installing collected packages: typing-extensions, greenlet, sqlalchemy\n",
      "Successfully installed greenlet-3.1.1 sqlalchemy-2.0.35 typing-extensions-4.12.2\n",
      "Note: you may need to restart the kernel to use updated packages.\n"
     ]
    }
   ],
   "source": [
    "pip install sqlalchemy"
   ]
  },
  {
   "cell_type": "code",
   "execution_count": null,
   "metadata": {},
   "outputs": [],
   "source": [
    "from sqlalchemy import create_engine\n",
    "\n",
    "engine = create_engine('sqlite:')"
   ]
  },
  {
   "cell_type": "markdown",
   "metadata": {},
   "source": [
    "PRACTICE FEATURE SCALING USING PANDAS AND WITHOUT SKLEARN LIBRARY"
   ]
  },
  {
   "cell_type": "markdown",
   "metadata": {},
   "source": []
  }
 ],
 "metadata": {
  "kernelspec": {
   "display_name": "Python 3",
   "language": "python",
   "name": "python3"
  },
  "language_info": {
   "codemirror_mode": {
    "name": "ipython",
    "version": 3
   },
   "file_extension": ".py",
   "mimetype": "text/x-python",
   "name": "python",
   "nbconvert_exporter": "python",
   "pygments_lexer": "ipython3",
   "version": "3.12.5"
  }
 },
 "nbformat": 4,
 "nbformat_minor": 2
}
