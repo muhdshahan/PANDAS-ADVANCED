{
 "cells": [
  {
   "cell_type": "code",
   "execution_count": 3,
   "metadata": {},
   "outputs": [
    {
     "name": "stdout",
     "output_type": "stream",
     "text": [
      "    id         name   age             specialization\n",
      "0    2        shine   NaN              data engineer\n",
      "1    3     kunjacks  22.0                        NaN\n",
      "2    4        sisly  32.0          flutter developer\n",
      "3    1        jonny  77.0          flutter developer\n",
      "4    5       daveed   NaN               data science\n",
      "5    6        lilly  18.0                        NaN\n",
      "6    9  thomaskutty   NaN          flutter developer\n",
      "7    8         mary  37.0                        NaN\n",
      "8    7        eesha  21.0               data science\n",
      "9   11        neena  38.0          flutter developer\n",
      "10  18  georgekutty   NaN               data science\n",
      "11  20     shoshama  27.0          flutter developer\n",
      "12  21       nithin  20.0  python mobile development\n"
     ]
    },
    {
     "name": "stderr",
     "output_type": "stream",
     "text": [
      "C:\\Users\\shaha\\AppData\\Local\\Temp\\ipykernel_17960\\3302763978.py:1: DeprecationWarning: \n",
      "Pyarrow will become a required dependency of pandas in the next major release of pandas (pandas 3.0),\n",
      "(to allow more performant data types, such as the Arrow string type, and better interoperability with other libraries)\n",
      "but was not found to be installed on your system.\n",
      "If this would cause problems for you,\n",
      "please provide us feedback at https://github.com/pandas-dev/pandas/issues/54466\n",
      "        \n",
      "  import pandas as pd\n"
     ]
    }
   ],
   "source": [
    "import pandas as pd\n",
    "\n",
    "data = pd.read_csv('employees.csv' , sep = ':')\n",
    "# sep = , as it is seperated my columns\n",
    "print(data)\n"
   ]
  },
  {
   "cell_type": "code",
   "execution_count": 4,
   "metadata": {},
   "outputs": [
    {
     "name": "stdout",
     "output_type": "stream",
     "text": [
      "     3     kunjacks    22                 Unnamed: 3\n",
      "0    4        sisly  32.0          flutter developer\n",
      "1    1        jonny  77.0          flutter developer\n",
      "2    5       daveed   NaN               data science\n",
      "3    6        lilly  18.0                        NaN\n",
      "4    9  thomaskutty   NaN          flutter developer\n",
      "5    8         mary  37.0                        NaN\n",
      "6    7        eesha  21.0               data science\n",
      "7   11        neena  38.0          flutter developer\n",
      "8   18  georgekutty   NaN               data science\n",
      "9   20     shoshama  27.0          flutter developer\n",
      "10  21       nithin  20.0  python mobile development\n"
     ]
    }
   ],
   "source": [
    "data1 = pd.read_csv('employees.csv' , sep = ':' , header = 2)\n",
    "print(data1)"
   ]
  },
  {
   "cell_type": "code",
   "execution_count": 5,
   "metadata": {},
   "outputs": [
    {
     "name": "stdout",
     "output_type": "stream",
     "text": [
      "    1        jonny  77          flutter developer\n",
      "0   5       daveed                   data science\n",
      "1   6        lilly  18                           \n",
      "2   9  thomaskutty              flutter developer\n",
      "3   8         mary  37                           \n",
      "4   7        eesha  21               data science\n",
      "5  11        neena  38          flutter developer\n",
      "6  18  georgekutty                   data science\n",
      "7  20     shoshama  27          flutter developer\n",
      "8  21       nithin  20  python mobile development\n"
     ]
    }
   ],
   "source": [
    "data1 = pd.read_csv('employees.csv' , sep = ':' , skiprows= 4, na_values=['  '] , keep_default_na=False)\n",
    "# skiprows for skipping some rows \n",
    "# na_values = something and keep_default_na = False sets the NaN values to be not shown during display \n",
    "print(data1)"
   ]
  },
  {
   "cell_type": "code",
   "execution_count": 6,
   "metadata": {},
   "outputs": [
    {
     "name": "stdout",
     "output_type": "stream",
     "text": [
      "    id   age\n",
      "0    2   NaN\n",
      "1    3  22.0\n",
      "2    4  32.0\n",
      "3    1  77.0\n",
      "4    5   NaN\n",
      "5    6  18.0\n",
      "6    9   NaN\n",
      "7    8  37.0\n",
      "8    7  21.0\n",
      "9   11  38.0\n",
      "10  18   NaN\n",
      "11  20  27.0\n",
      "12  21  20.0\n",
      "           name\n",
      "0         shine\n",
      "1      kunjacks\n",
      "2         sisly\n",
      "3         jonny\n",
      "4        daveed\n",
      "5         lilly\n",
      "6   thomaskutty\n",
      "7          mary\n",
      "8         eesha\n",
      "9         neena\n",
      "10  georgekutty\n",
      "11     shoshama\n",
      "12       nithin\n"
     ]
    }
   ],
   "source": [
    "data1 = pd.read_csv('employees.csv' , sep = ':' , usecols = ['id' , 'age'])\n",
    "print(data1)\n",
    "#specifying the only columns that needs to be displayed\n",
    "data1 = pd.read_csv('employees.csv' , sep = ':' , usecols = [1])\n",
    "print(data1)\n",
    "#using indexes"
   ]
  },
  {
   "cell_type": "code",
   "execution_count": 7,
   "metadata": {},
   "outputs": [
    {
     "name": "stdout",
     "output_type": "stream",
     "text": [
      "   id      name   age     specialization\n",
      "0   2     shine   NaN      data engineer\n",
      "1   3  kunjacks  22.0                NaN\n",
      "2   4     sisly  32.0  flutter developer\n",
      "   id    name   age     specialization\n",
      "3   1   jonny  77.0  flutter developer\n",
      "4   5  daveed   NaN       data science\n",
      "5   6   lilly  18.0                NaN\n",
      "   id         name   age     specialization\n",
      "6   9  thomaskutty   NaN  flutter developer\n",
      "7   8         mary  37.0                NaN\n",
      "8   7        eesha  21.0       data science\n",
      "    id         name   age     specialization\n",
      "9   11        neena  38.0  flutter developer\n",
      "10  18  georgekutty   NaN       data science\n",
      "11  20     shoshama  27.0  flutter developer\n",
      "    id    name  age             specialization\n",
      "12  21  nithin   20  python mobile development\n"
     ]
    }
   ],
   "source": [
    "#when there are large csv files , we can display easily by classifying to chunks ie tables of chunk size\n",
    "\n",
    "iter = pd.read_csv('employees.csv' , sep = ':' , chunksize = 3)\n",
    "#for this we have to iterate so creates tables with row size 3\n",
    "for x in iter:\n",
    "    print(x)\n",
    "    "
   ]
  },
  {
   "cell_type": "code",
   "execution_count": 8,
   "metadata": {},
   "outputs": [],
   "source": [
    "df1 = pd.read_csv('employees.csv' , sep = ':')\n",
    "from sklearn.model_selection import train_test_split \n",
    "x,y = train_test_split(df1,test_size=0.3,random_state=0)\n",
    "# x,y = df1.iloc[0:df1.shape[0]//2],df1.iloc[df1.shape[0]//2:]"
   ]
  },
  {
   "cell_type": "code",
   "execution_count": 9,
   "metadata": {},
   "outputs": [
    {
     "data": {
      "text/html": [
       "<div>\n",
       "<style scoped>\n",
       "    .dataframe tbody tr th:only-of-type {\n",
       "        vertical-align: middle;\n",
       "    }\n",
       "\n",
       "    .dataframe tbody tr th {\n",
       "        vertical-align: top;\n",
       "    }\n",
       "\n",
       "    .dataframe thead th {\n",
       "        text-align: right;\n",
       "    }\n",
       "</style>\n",
       "<table border=\"1\" class=\"dataframe\">\n",
       "  <thead>\n",
       "    <tr style=\"text-align: right;\">\n",
       "      <th></th>\n",
       "      <th>id</th>\n",
       "      <th>name</th>\n",
       "      <th>age</th>\n",
       "      <th>specialization</th>\n",
       "    </tr>\n",
       "  </thead>\n",
       "  <tbody>\n",
       "    <tr>\n",
       "      <th>2</th>\n",
       "      <td>4</td>\n",
       "      <td>sisly</td>\n",
       "      <td>32.0</td>\n",
       "      <td>flutter developer</td>\n",
       "    </tr>\n",
       "    <tr>\n",
       "      <th>8</th>\n",
       "      <td>7</td>\n",
       "      <td>eesha</td>\n",
       "      <td>21.0</td>\n",
       "      <td>data science</td>\n",
       "    </tr>\n",
       "    <tr>\n",
       "      <th>1</th>\n",
       "      <td>3</td>\n",
       "      <td>kunjacks</td>\n",
       "      <td>22.0</td>\n",
       "      <td>NaN</td>\n",
       "    </tr>\n",
       "    <tr>\n",
       "      <th>7</th>\n",
       "      <td>8</td>\n",
       "      <td>mary</td>\n",
       "      <td>37.0</td>\n",
       "      <td>NaN</td>\n",
       "    </tr>\n",
       "    <tr>\n",
       "      <th>9</th>\n",
       "      <td>11</td>\n",
       "      <td>neena</td>\n",
       "      <td>38.0</td>\n",
       "      <td>flutter developer</td>\n",
       "    </tr>\n",
       "    <tr>\n",
       "      <th>3</th>\n",
       "      <td>1</td>\n",
       "      <td>jonny</td>\n",
       "      <td>77.0</td>\n",
       "      <td>flutter developer</td>\n",
       "    </tr>\n",
       "    <tr>\n",
       "      <th>0</th>\n",
       "      <td>2</td>\n",
       "      <td>shine</td>\n",
       "      <td>NaN</td>\n",
       "      <td>data engineer</td>\n",
       "    </tr>\n",
       "    <tr>\n",
       "      <th>5</th>\n",
       "      <td>6</td>\n",
       "      <td>lilly</td>\n",
       "      <td>18.0</td>\n",
       "      <td>NaN</td>\n",
       "    </tr>\n",
       "    <tr>\n",
       "      <th>12</th>\n",
       "      <td>21</td>\n",
       "      <td>nithin</td>\n",
       "      <td>20.0</td>\n",
       "      <td>python mobile development</td>\n",
       "    </tr>\n",
       "  </tbody>\n",
       "</table>\n",
       "</div>"
      ],
      "text/plain": [
       "    id      name   age             specialization\n",
       "2    4     sisly  32.0          flutter developer\n",
       "8    7     eesha  21.0               data science\n",
       "1    3  kunjacks  22.0                        NaN\n",
       "7    8      mary  37.0                        NaN\n",
       "9   11     neena  38.0          flutter developer\n",
       "3    1     jonny  77.0          flutter developer\n",
       "0    2     shine   NaN              data engineer\n",
       "5    6     lilly  18.0                        NaN\n",
       "12  21    nithin  20.0  python mobile development"
      ]
     },
     "execution_count": 9,
     "metadata": {},
     "output_type": "execute_result"
    }
   ],
   "source": [
    "x"
   ]
  },
  {
   "cell_type": "code",
   "execution_count": 10,
   "metadata": {},
   "outputs": [
    {
     "data": {
      "text/html": [
       "<div>\n",
       "<style scoped>\n",
       "    .dataframe tbody tr th:only-of-type {\n",
       "        vertical-align: middle;\n",
       "    }\n",
       "\n",
       "    .dataframe tbody tr th {\n",
       "        vertical-align: top;\n",
       "    }\n",
       "\n",
       "    .dataframe thead th {\n",
       "        text-align: right;\n",
       "    }\n",
       "</style>\n",
       "<table border=\"1\" class=\"dataframe\">\n",
       "  <thead>\n",
       "    <tr style=\"text-align: right;\">\n",
       "      <th></th>\n",
       "      <th>id</th>\n",
       "      <th>name</th>\n",
       "      <th>age</th>\n",
       "      <th>specialization</th>\n",
       "    </tr>\n",
       "  </thead>\n",
       "  <tbody>\n",
       "    <tr>\n",
       "      <th>6</th>\n",
       "      <td>9</td>\n",
       "      <td>thomaskutty</td>\n",
       "      <td>NaN</td>\n",
       "      <td>flutter developer</td>\n",
       "    </tr>\n",
       "    <tr>\n",
       "      <th>11</th>\n",
       "      <td>20</td>\n",
       "      <td>shoshama</td>\n",
       "      <td>27.0</td>\n",
       "      <td>flutter developer</td>\n",
       "    </tr>\n",
       "    <tr>\n",
       "      <th>4</th>\n",
       "      <td>5</td>\n",
       "      <td>daveed</td>\n",
       "      <td>NaN</td>\n",
       "      <td>data science</td>\n",
       "    </tr>\n",
       "    <tr>\n",
       "      <th>10</th>\n",
       "      <td>18</td>\n",
       "      <td>georgekutty</td>\n",
       "      <td>NaN</td>\n",
       "      <td>data science</td>\n",
       "    </tr>\n",
       "  </tbody>\n",
       "</table>\n",
       "</div>"
      ],
      "text/plain": [
       "    id         name   age     specialization\n",
       "6    9  thomaskutty   NaN  flutter developer\n",
       "11  20     shoshama  27.0  flutter developer\n",
       "4    5       daveed   NaN       data science\n",
       "10  18  georgekutty   NaN       data science"
      ]
     },
     "execution_count": 10,
     "metadata": {},
     "output_type": "execute_result"
    }
   ],
   "source": [
    "y"
   ]
  }
 ],
 "metadata": {
  "kernelspec": {
   "display_name": "Python 3",
   "language": "python",
   "name": "python3"
  },
  "language_info": {
   "codemirror_mode": {
    "name": "ipython",
    "version": 3
   },
   "file_extension": ".py",
   "mimetype": "text/x-python",
   "name": "python",
   "nbconvert_exporter": "python",
   "pygments_lexer": "ipython3",
   "version": "3.12.5"
  }
 },
 "nbformat": 4,
 "nbformat_minor": 2
}
