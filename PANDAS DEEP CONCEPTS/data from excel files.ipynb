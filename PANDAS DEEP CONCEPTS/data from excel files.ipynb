{
 "cells": [
  {
   "cell_type": "code",
   "execution_count": 15,
   "metadata": {},
   "outputs": [
    {
     "name": "stdout",
     "output_type": "stream",
     "text": [
      "    id         name   age             specialization\n",
      "0    2        shine   NaN              data engineer\n",
      "1    3     kunjacks  22.0                        NaN\n",
      "2    4        sisly  32.0          flutter developer\n",
      "3    1        jonny  77.0          flutter developer\n",
      "4    5       daveed   NaN               data science\n",
      "5    6        lilly  18.0                        NaN\n",
      "6    9  thomaskutty   NaN          flutter developer\n",
      "7    8         mary  37.0                        NaN\n",
      "8    7        eesha  21.0               data science\n",
      "9   11        neena  38.0          flutter developer\n",
      "10  18  georgekutty   NaN               data science\n",
      "11  20     shoshama  27.0          flutter developer\n",
      "12  21       nithin  20.0  python mobile development \n",
      "\n",
      "    id         name   age             specialization\n",
      "0    2        shine   NaN              data engineer\n",
      "1    3     kunjacks  22.0                        NaN\n",
      "2    4        sisly  32.0          flutter developer\n",
      "3    1        jonny  77.0          flutter developer\n",
      "4    5       daveed   NaN               data science\n",
      "5    6        lilly  18.0                        NaN\n",
      "6    9  thomaskutty   NaN          flutter developer\n",
      "7    8         mary  37.0                        NaN\n",
      "8    7        eesha  21.0               data science\n",
      "9   11        neena  38.0          flutter developer\n",
      "10  18  georgekutty   NaN               data science\n",
      "11  20     shoshama  27.0          flutter developer\n",
      "12  21       nithin  20.0  python mobile development \n",
      "\n",
      "    id         name   age             specialization\n",
      "0    2        shine   NaN              data engineer\n",
      "1    3     kunjacks  22.0                        NaN\n",
      "2    4        sisly  32.0          flutter developer\n",
      "3    1        jonny  77.0          flutter developer\n",
      "4    5       daveed   NaN               data science\n",
      "5    6        lilly  18.0                        NaN\n",
      "6    9  thomaskutty   NaN          flutter developer\n",
      "7    8         mary  37.0                        NaN\n",
      "8    7        eesha  21.0               data science\n",
      "9   11        neena  38.0          flutter developer\n",
      "10  18  georgekutty   NaN               data science\n",
      "11  20     shoshama  27.0          flutter developer\n",
      "12  21       nithin  20.0  python mobile development\n"
     ]
    }
   ],
   "source": [
    "import pandas as pd\n",
    "employee_details = pd.read_excel('employees.xlsx')\n",
    "print(employee_details,'\\n')\n",
    "#displaying the first sheets if there are multiple sheets\n",
    "employee_details = pd.read_excel('employees.xlsx' , sheet_name = 'Sheet1')\n",
    "print(employee_details,'\\n')\n",
    "\n",
    "employee_details = pd.read_excel('employees.xlsx' , sheet_name = 0)\n",
    "print(employee_details)"
   ]
  },
  {
   "cell_type": "markdown",
   "metadata": {},
   "source": [
    "skipping rows and selecting columns"
   ]
  },
  {
   "cell_type": "code",
   "execution_count": 27,
   "metadata": {},
   "outputs": [
    {
     "name": "stdout",
     "output_type": "stream",
     "text": [
      "     3     kunjacks    22                 Unnamed: 3\n",
      "0    4        sisly  32.0          flutter developer\n",
      "1    1        jonny  77.0          flutter developer\n",
      "2    5       daveed   NaN               data science\n",
      "3    6        lilly  18.0                        NaN\n",
      "4    9  thomaskutty   NaN          flutter developer\n",
      "5    8         mary  37.0                        NaN\n",
      "6    7        eesha  21.0               data science\n",
      "7   11        neena  38.0          flutter developer\n",
      "8   18  georgekutty   NaN               data science\n",
      "9   20     shoshama  27.0          flutter developer\n",
      "10  21       nithin  20.0  python mobile development \n",
      "\n",
      "    id\n",
      "0    2\n",
      "1    3\n",
      "2    4\n",
      "3    1\n",
      "4    5\n",
      "5    6\n",
      "6    9\n",
      "7    8\n",
      "8    7\n",
      "9   11\n",
      "10  18\n",
      "11  20\n",
      "12  21 \n",
      "\n"
     ]
    }
   ],
   "source": [
    "employee_details = pd.read_excel('employees.xlsx' , skiprows = 2)\n",
    "#same as csv\n",
    "print(employee_details,'\\n')\n",
    "employee_details = pd.read_excel('employees.xlsx' , usecols = ['id'])\n",
    "print(employee_details,'\\n')\n"
   ]
  },
  {
   "cell_type": "code",
   "execution_count": 104,
   "metadata": {},
   "outputs": [
    {
     "name": "stdout",
     "output_type": "stream",
     "text": [
      "     age\n",
      "0    NaN\n",
      "1   22.0\n",
      "2   32.0\n",
      "3   77.0\n",
      "4    NaN\n",
      "5   18.0\n",
      "6    NaN\n",
      "7   37.0\n",
      "8   21.0\n",
      "9   38.0\n",
      "10   NaN\n",
      "11  27.0\n",
      "12  20.0 \n",
      "\n",
      "    id         name   age\n",
      "0    2        shine   NaN\n",
      "1    3     kunjacks  22.0\n",
      "2    4        sisly  32.0\n",
      "3    1        jonny  77.0\n",
      "4    5       daveed   NaN\n",
      "5    6        lilly  18.0\n",
      "6    9  thomaskutty   NaN\n",
      "7    8         mary  37.0\n",
      "8    7        eesha  21.0\n",
      "9   11        neena  38.0\n",
      "10  18  georgekutty   NaN\n",
      "11  20     shoshama  27.0\n",
      "12  21       nithin  20.0 \n",
      "\n"
     ]
    }
   ],
   "source": [
    "employee_details = pd.read_excel('employees.xlsx' , usecols = [2])\n",
    "print(employee_details,'\\n')\n",
    "employee_details = pd.read_excel('employees.xlsx' , usecols = 'A:C')\n",
    "#READS COLUMNS A TO C ie first column to 3rd col\n",
    "print(employee_details,'\\n')"
   ]
  },
  {
   "cell_type": "code",
   "execution_count": 111,
   "metadata": {},
   "outputs": [
    {
     "name": "stdout",
     "output_type": "stream",
     "text": [
      "    id         name   age\n",
      "0    2        shine  22.0\n",
      "1    3     kunjacks  22.0\n",
      "2    4        sisly  32.0\n",
      "3    1        jonny  77.0\n",
      "4    5       daveed  18.0\n",
      "5    6        lilly  18.0\n",
      "6    9  thomaskutty  37.0\n",
      "7    8         mary  37.0\n",
      "8    7        eesha  21.0\n",
      "9   11        neena  38.0\n",
      "10  18  georgekutty  27.0\n",
      "11  20     shoshama  27.0\n",
      "12  21       nithin  20.0 \n",
      "\n"
     ]
    },
    {
     "name": "stderr",
     "output_type": "stream",
     "text": [
      "C:\\Users\\shaha\\AppData\\Local\\Temp\\ipykernel_5512\\2654300063.py:3: FutureWarning: DataFrame.fillna with 'method' is deprecated and will raise in a future version. Use obj.ffill() or obj.bfill() instead.\n",
      "  employee_details = employee_details.fillna(method = 'ffill') #this is how forward fill is implemented in excel files\n"
     ]
    }
   ],
   "source": [
    "# employee_details = pd.read_excel('employees.xlsx' , parse_dates=['DateColumn'])\n",
    "# for date conversion but in my data no dates\n",
    "employee_details = employee_details.fillna(method = 'ffill') #this is how forward fill is implemented in excel files\n",
    "print(employee_details,'\\n')\n"
   ]
  },
  {
   "cell_type": "code",
   "execution_count": 109,
   "metadata": {},
   "outputs": [
    {
     "name": "stdout",
     "output_type": "stream",
     "text": [
      "    id         name   age\n",
      "0    2        shine  22.0\n",
      "1    3     kunjacks  22.0\n",
      "2    4        sisly  32.0\n",
      "3    1        jonny  77.0\n",
      "4    5       daveed  18.0\n",
      "5    6        lilly  18.0\n",
      "6    9  thomaskutty  37.0\n",
      "7    8         mary  37.0\n",
      "8    7        eesha  21.0\n",
      "9   11        neena  38.0\n",
      "10  18  georgekutty  27.0\n",
      "11  20     shoshama  27.0\n",
      "12  21       nithin  20.0\n"
     ]
    },
    {
     "name": "stderr",
     "output_type": "stream",
     "text": [
      "C:\\Users\\shaha\\AppData\\Local\\Temp\\ipykernel_5512\\3878280686.py:1: FutureWarning: DataFrame.fillna with 'method' is deprecated and will raise in a future version. Use obj.ffill() or obj.bfill() instead.\n",
      "  employee_details = employee_details.fillna(method = 'bfill') #this is how forward fill is implemented in excel files\n"
     ]
    }
   ],
   "source": [
    "employee_details = employee_details.fillna(method = 'bfill') #this is how forward fill is implemented in excel files\n",
    "print(employee_details)"
   ]
  }
 ],
 "metadata": {
  "kernelspec": {
   "display_name": "Python 3",
   "language": "python",
   "name": "python3"
  },
  "language_info": {
   "codemirror_mode": {
    "name": "ipython",
    "version": 3
   },
   "file_extension": ".py",
   "mimetype": "text/x-python",
   "name": "python",
   "nbconvert_exporter": "python",
   "pygments_lexer": "ipython3",
   "version": "3.12.5"
  }
 },
 "nbformat": 4,
 "nbformat_minor": 2
}
