{
 "cells": [
  {
   "cell_type": "code",
   "execution_count": 53,
   "metadata": {},
   "outputs": [
    {
     "name": "stdout",
     "output_type": "stream",
     "text": [
      "Index(['id', 'name', 'age', 'specialization'], dtype='object') \n",
      "\n",
      "    id         name   age             specialization\n",
      "0    2        shine   NaN              data engineer\n",
      "1    3     kunjacks  22.0                        NaN\n",
      "2    4        sisly  32.0          flutter developer\n",
      "3    1        jonny  77.0          flutter developer\n",
      "4    5       daveed   NaN               data science\n",
      "5    6        lilly  18.0                        NaN\n",
      "6    9  thomaskutty   NaN          flutter developer\n",
      "7    8         mary  37.0                        NaN\n",
      "8    7        eesha  21.0               data science\n",
      "9   11        neena  38.0          flutter developer\n",
      "10  18  georgekutty   NaN               data science\n",
      "11  20     shoshama  27.0          flutter developer\n",
      "12  21       nithin  20.0  python mobile development\n"
     ]
    }
   ],
   "source": [
    "import pandas as pd\n",
    "import numpy as np\n",
    "\n",
    "employees = pd.read_csv('employees.csv' , sep= ':')\n",
    "print(employees.columns , '\\n')\n",
    "print(employees)"
   ]
  },
  {
   "cell_type": "markdown",
   "metadata": {},
   "source": [
    "identifying missing values"
   ]
  },
  {
   "cell_type": "code",
   "execution_count": 54,
   "metadata": {},
   "outputs": [
    {
     "name": "stdout",
     "output_type": "stream",
     "text": [
      "       id   name    age  specialization\n",
      "0   False  False   True           False\n",
      "1   False  False  False            True\n",
      "2   False  False  False           False\n",
      "3   False  False  False           False\n",
      "4   False  False   True           False\n",
      "5   False  False  False            True\n",
      "6   False  False   True           False\n",
      "7   False  False  False            True\n",
      "8   False  False  False           False\n",
      "9   False  False  False           False\n",
      "10  False  False   True           False\n",
      "11  False  False  False           False\n",
      "12  False  False  False           False\n",
      "       id   name    age  specialization\n",
      "0   False  False   True           False\n",
      "1   False  False  False            True\n",
      "2   False  False  False           False\n",
      "3   False  False  False           False\n",
      "4   False  False   True           False\n",
      "5   False  False  False            True\n",
      "6   False  False   True           False\n",
      "7   False  False  False            True\n",
      "8   False  False  False           False\n",
      "9   False  False  False           False\n",
      "10  False  False   True           False\n",
      "11  False  False  False           False\n",
      "12  False  False  False           False\n"
     ]
    }
   ],
   "source": [
    "print(employees.isna()) #or \n",
    "print(employees.isnull())"
   ]
  },
  {
   "cell_type": "markdown",
   "metadata": {},
   "source": [
    "find non missing values"
   ]
  },
  {
   "cell_type": "code",
   "execution_count": 55,
   "metadata": {},
   "outputs": [
    {
     "name": "stdout",
     "output_type": "stream",
     "text": [
      "      id  name    age  specialization\n",
      "0   True  True  False            True\n",
      "1   True  True   True           False\n",
      "2   True  True   True            True\n",
      "3   True  True   True            True\n",
      "4   True  True  False            True\n",
      "5   True  True   True           False\n",
      "6   True  True  False            True\n",
      "7   True  True   True           False\n",
      "8   True  True   True            True\n",
      "9   True  True   True            True\n",
      "10  True  True  False            True\n",
      "11  True  True   True            True\n",
      "12  True  True   True            True\n",
      "      id  name    age  specialization\n",
      "0   True  True  False            True\n",
      "1   True  True   True           False\n",
      "2   True  True   True            True\n",
      "3   True  True   True            True\n",
      "4   True  True  False            True\n",
      "5   True  True   True           False\n",
      "6   True  True  False            True\n",
      "7   True  True   True           False\n",
      "8   True  True   True            True\n",
      "9   True  True   True            True\n",
      "10  True  True  False            True\n",
      "11  True  True   True            True\n",
      "12  True  True   True            True\n"
     ]
    }
   ],
   "source": [
    "print(employees.notnull()) #or\n",
    "print(employees.notna())"
   ]
  },
  {
   "cell_type": "code",
   "execution_count": 56,
   "metadata": {},
   "outputs": [
    {
     "name": "stdout",
     "output_type": "stream",
     "text": [
      "id                0\n",
      "name              0\n",
      "age               4\n",
      "specialization    3\n",
      "dtype: int64\n",
      "    id      name   age             specialization\n",
      "2    4     sisly  32.0          flutter developer\n",
      "3    1     jonny  77.0          flutter developer\n",
      "8    7     eesha  21.0               data science\n",
      "9   11     neena  38.0          flutter developer\n",
      "11  20  shoshama  27.0          flutter developer\n",
      "12  21    nithin  20.0  python mobile development\n"
     ]
    }
   ],
   "source": [
    "#count of missing values per column\n",
    "\n",
    "print(employees.isna().sum())\n",
    "#if u use count() u get the number of rows not the nuumb of missing values\n",
    "\n",
    "#drop missing values , displays only rows without any missing values\n",
    "print(employees.dropna())\n",
    "#fill for filling and replace for replacing specific value and not filling but can also be used for filling"
   ]
  },
  {
   "cell_type": "code",
   "execution_count": 57,
   "metadata": {},
   "outputs": [
    {
     "name": "stdout",
     "output_type": "stream",
     "text": [
      "id                  int64\n",
      "name               object\n",
      "age               float64\n",
      "specialization     object\n",
      "dtype: object\n",
      "    id         name   age             specialization\n",
      "0    2        shine   NaN              data engineer\n",
      "1    3     kunjacks  22.0                        NaN\n",
      "2    4        sisly  32.0          flutter developer\n",
      "3    1        jonny  77.0          flutter developer\n",
      "4    5       daveed   NaN               data science\n",
      "5    6        lilly  18.0                        NaN\n",
      "6    9  thomaskutty   NaN          flutter developer\n",
      "7    8         mary  37.0                        NaN\n",
      "8    7        eesha  21.0               data science\n",
      "9   11        neena  38.0          flutter developer\n",
      "10  18  georgekutty   NaN               data science\n",
      "11  20     shoshama  27.0          flutter developer\n",
      "12  21       nithin  20.0  python mobile development\n",
      "    id   age\n",
      "0    2   NaN\n",
      "1    3  22.0\n",
      "2    4  32.0\n",
      "3    1  77.0\n",
      "4    5   NaN\n",
      "5    6  18.0\n",
      "6    9   NaN\n",
      "7    8  37.0\n",
      "8    7  21.0\n",
      "9   11  38.0\n",
      "10  18   NaN\n",
      "11  20  27.0\n",
      "12  21  20.0\n"
     ]
    }
   ],
   "source": [
    "print(employees.dtypes)\n",
    "#only columns with selected data type will be printed\n",
    "print(employees.select_dtypes(include=['number' , 'object'])) #including\n",
    "print(employees.select_dtypes(exclude='object')) #excluding"
   ]
  },
  {
   "cell_type": "code",
   "execution_count": 58,
   "metadata": {},
   "outputs": [
    {
     "name": "stdout",
     "output_type": "stream",
     "text": [
      "id                  int64\n",
      "name               object\n",
      "age               float64\n",
      "specialization    float64\n",
      "dtype: object\n"
     ]
    }
   ],
   "source": [
    "employees_dupe = employees\n",
    "employees_dupe['specialization'] = pd.to_numeric(employees_dupe['specialization'],errors = 'coerce')\n",
    "#error = coerce to avoid conversion errors\n",
    "print(employees_dupe.dtypes)\n",
    "#learn categorical datatype and its conversion"
   ]
  },
  {
   "cell_type": "markdown",
   "metadata": {},
   "source": [
    "Clean your data by handling duplicates that can skew your analysis."
   ]
  },
  {
   "cell_type": "code",
   "execution_count": 59,
   "metadata": {},
   "outputs": [
    {
     "name": "stdout",
     "output_type": "stream",
     "text": [
      "0     False\n",
      "1     False\n",
      "2     False\n",
      "3     False\n",
      "4     False\n",
      "5     False\n",
      "6     False\n",
      "7     False\n",
      "8     False\n",
      "9     False\n",
      "10    False\n",
      "11    False\n",
      "12    False\n",
      "dtype: bool\n",
      "Empty DataFrame\n",
      "Columns: [id, name, age, specialization]\n",
      "Index: []\n"
     ]
    }
   ],
   "source": [
    "# drop_duplicates u already know\n",
    "\n",
    "# .duplicated() return a boolean series marking duplicates\n",
    "print(employees.duplicated())\n",
    "#here no duplicates\n",
    "\n",
    "#returning the duplicates only , as dataframe itself\n",
    "print(employees[employees.duplicated()])\n",
    "#returns nothing as no duplicate"
   ]
  },
  {
   "cell_type": "markdown",
   "metadata": {},
   "source": [
    "String Manipulation and Data Cleaning"
   ]
  },
  {
   "cell_type": "code",
   "execution_count": 60,
   "metadata": {},
   "outputs": [
    {
     "name": "stdout",
     "output_type": "stream",
     "text": [
      "    id         name   age  specialization\n",
      "0    2        shine   NaN             NaN\n",
      "1    3     kunjacks  22.0             NaN\n",
      "2    4        sisly  32.0             NaN\n",
      "3    1        jonny  77.0             NaN\n",
      "4    5       daveed   NaN             NaN\n",
      "5    6        lilly  18.0             NaN\n",
      "6    9  thomaskutty   NaN             NaN\n",
      "7    8         mary  37.0             NaN\n",
      "8    7        eesha  21.0             NaN\n",
      "9   11        neena  38.0             NaN\n",
      "10  18  georgekutty   NaN             NaN\n",
      "11  20     shoshama  27.0             NaN\n",
      "12  21       nithin  20.0             NaN \n",
      "\n",
      "    id         name                age     specialization\n",
      "0    2        shine   DATA UNAVAILABLE   DATA UNAVAILABLE\n",
      "1    3     kunjacks               22.0   DATA UNAVAILABLE\n",
      "2    4        sisly               32.0   DATA UNAVAILABLE\n",
      "3    1        jonny               77.0   DATA UNAVAILABLE\n",
      "4    5       daveed   DATA UNAVAILABLE   DATA UNAVAILABLE\n",
      "5    6        lilly               18.0   DATA UNAVAILABLE\n",
      "6    9  thomaskutty   DATA UNAVAILABLE   DATA UNAVAILABLE\n",
      "7    8         mary               37.0   DATA UNAVAILABLE\n",
      "8    7        eesha               21.0   DATA UNAVAILABLE\n",
      "9   11        neena               38.0   DATA UNAVAILABLE\n",
      "10  18  georgekutty   DATA UNAVAILABLE   DATA UNAVAILABLE\n",
      "11  20     shoshama               27.0   DATA UNAVAILABLE\n",
      "12  21       nithin               20.0   DATA UNAVAILABLE \n",
      "\n"
     ]
    }
   ],
   "source": [
    "print(employees,'\\n')\n",
    "print(employees.replace({pd.NA : ' DATA UNAVAILABLE' , np.nan : ' DATA UNAVAILABLE' , None : ' DATA UNAVAILABLE'}),'\\n')\n"
   ]
  },
  {
   "cell_type": "code",
   "execution_count": 61,
   "metadata": {},
   "outputs": [
    {
     "data": {
      "text/plain": [
       "0           Shine\n",
       "1        Kunjacks\n",
       "2           Sisly\n",
       "3           Jonny\n",
       "4          Daveed\n",
       "5           Lilly\n",
       "6     Thomaskutty\n",
       "7            Mary\n",
       "8           Eesha\n",
       "9           Neena\n",
       "10    Georgekutty\n",
       "11       Shoshama\n",
       "12         Nithin\n",
       "Name: name, dtype: object"
      ]
     },
     "execution_count": 61,
     "metadata": {},
     "output_type": "execute_result"
    }
   ],
   "source": [
    "employees['name'].str.title()"
   ]
  },
  {
   "cell_type": "markdown",
   "metadata": {},
   "source": [
    "CATEGORICAL DATA : categorical data should be handled properly if preparing data for machine learning"
   ]
  },
  {
   "cell_type": "code",
   "execution_count": 67,
   "metadata": {},
   "outputs": [
    {
     "data": {
      "text/html": [
       "<div>\n",
       "<style scoped>\n",
       "    .dataframe tbody tr th:only-of-type {\n",
       "        vertical-align: middle;\n",
       "    }\n",
       "\n",
       "    .dataframe tbody tr th {\n",
       "        vertical-align: top;\n",
       "    }\n",
       "\n",
       "    .dataframe thead th {\n",
       "        text-align: right;\n",
       "    }\n",
       "</style>\n",
       "<table border=\"1\" class=\"dataframe\">\n",
       "  <thead>\n",
       "    <tr style=\"text-align: right;\">\n",
       "      <th></th>\n",
       "      <th>age</th>\n",
       "    </tr>\n",
       "  </thead>\n",
       "  <tbody>\n",
       "    <tr>\n",
       "      <th>0</th>\n",
       "      <td>NaN</td>\n",
       "    </tr>\n",
       "    <tr>\n",
       "      <th>1</th>\n",
       "      <td>22.0</td>\n",
       "    </tr>\n",
       "    <tr>\n",
       "      <th>2</th>\n",
       "      <td>32.0</td>\n",
       "    </tr>\n",
       "    <tr>\n",
       "      <th>3</th>\n",
       "      <td>77.0</td>\n",
       "    </tr>\n",
       "    <tr>\n",
       "      <th>4</th>\n",
       "      <td>NaN</td>\n",
       "    </tr>\n",
       "    <tr>\n",
       "      <th>5</th>\n",
       "      <td>18.0</td>\n",
       "    </tr>\n",
       "    <tr>\n",
       "      <th>6</th>\n",
       "      <td>NaN</td>\n",
       "    </tr>\n",
       "    <tr>\n",
       "      <th>7</th>\n",
       "      <td>37.0</td>\n",
       "    </tr>\n",
       "    <tr>\n",
       "      <th>8</th>\n",
       "      <td>21.0</td>\n",
       "    </tr>\n",
       "    <tr>\n",
       "      <th>9</th>\n",
       "      <td>38.0</td>\n",
       "    </tr>\n",
       "    <tr>\n",
       "      <th>10</th>\n",
       "      <td>NaN</td>\n",
       "    </tr>\n",
       "    <tr>\n",
       "      <th>11</th>\n",
       "      <td>27.0</td>\n",
       "    </tr>\n",
       "    <tr>\n",
       "      <th>12</th>\n",
       "      <td>20.0</td>\n",
       "    </tr>\n",
       "  </tbody>\n",
       "</table>\n",
       "</div>"
      ],
      "text/plain": [
       "     age\n",
       "0    NaN\n",
       "1   22.0\n",
       "2   32.0\n",
       "3   77.0\n",
       "4    NaN\n",
       "5   18.0\n",
       "6    NaN\n",
       "7   37.0\n",
       "8   21.0\n",
       "9   38.0\n",
       "10   NaN\n",
       "11  27.0\n",
       "12  20.0"
      ]
     },
     "execution_count": 67,
     "metadata": {},
     "output_type": "execute_result"
    }
   ],
   "source": [
    "employees['age']=employees['age'].astype('category')\n",
    "employees.select_dtypes('category')\n"
   ]
  },
  {
   "cell_type": "code",
   "execution_count": 65,
   "metadata": {},
   "outputs": [
    {
     "data": {
      "text/html": [
       "<div>\n",
       "<style scoped>\n",
       "    .dataframe tbody tr th:only-of-type {\n",
       "        vertical-align: middle;\n",
       "    }\n",
       "\n",
       "    .dataframe tbody tr th {\n",
       "        vertical-align: top;\n",
       "    }\n",
       "\n",
       "    .dataframe thead th {\n",
       "        text-align: right;\n",
       "    }\n",
       "</style>\n",
       "<table border=\"1\" class=\"dataframe\">\n",
       "  <thead>\n",
       "    <tr style=\"text-align: right;\">\n",
       "      <th></th>\n",
       "      <th>age</th>\n",
       "    </tr>\n",
       "  </thead>\n",
       "  <tbody>\n",
       "    <tr>\n",
       "      <th>0</th>\n",
       "      <td>NaN</td>\n",
       "    </tr>\n",
       "    <tr>\n",
       "      <th>1</th>\n",
       "      <td>22.0</td>\n",
       "    </tr>\n",
       "    <tr>\n",
       "      <th>2</th>\n",
       "      <td>32.0</td>\n",
       "    </tr>\n",
       "    <tr>\n",
       "      <th>3</th>\n",
       "      <td>77.0</td>\n",
       "    </tr>\n",
       "    <tr>\n",
       "      <th>4</th>\n",
       "      <td>NaN</td>\n",
       "    </tr>\n",
       "    <tr>\n",
       "      <th>5</th>\n",
       "      <td>18.0</td>\n",
       "    </tr>\n",
       "    <tr>\n",
       "      <th>6</th>\n",
       "      <td>NaN</td>\n",
       "    </tr>\n",
       "    <tr>\n",
       "      <th>7</th>\n",
       "      <td>37.0</td>\n",
       "    </tr>\n",
       "    <tr>\n",
       "      <th>8</th>\n",
       "      <td>21.0</td>\n",
       "    </tr>\n",
       "    <tr>\n",
       "      <th>9</th>\n",
       "      <td>38.0</td>\n",
       "    </tr>\n",
       "    <tr>\n",
       "      <th>10</th>\n",
       "      <td>NaN</td>\n",
       "    </tr>\n",
       "    <tr>\n",
       "      <th>11</th>\n",
       "      <td>27.0</td>\n",
       "    </tr>\n",
       "    <tr>\n",
       "      <th>12</th>\n",
       "      <td>20.0</td>\n",
       "    </tr>\n",
       "  </tbody>\n",
       "</table>\n",
       "</div>"
      ],
      "text/plain": [
       "     age\n",
       "0    NaN\n",
       "1   22.0\n",
       "2   32.0\n",
       "3   77.0\n",
       "4    NaN\n",
       "5   18.0\n",
       "6    NaN\n",
       "7   37.0\n",
       "8   21.0\n",
       "9   38.0\n",
       "10   NaN\n",
       "11  27.0\n",
       "12  20.0"
      ]
     },
     "execution_count": 65,
     "metadata": {},
     "output_type": "execute_result"
    }
   ],
   "source": []
  },
  {
   "cell_type": "code",
   "execution_count": null,
   "metadata": {},
   "outputs": [],
   "source": []
  }
 ],
 "metadata": {
  "kernelspec": {
   "display_name": "Python 3",
   "language": "python",
   "name": "python3"
  },
  "language_info": {
   "codemirror_mode": {
    "name": "ipython",
    "version": 3
   },
   "file_extension": ".py",
   "mimetype": "text/x-python",
   "name": "python",
   "nbconvert_exporter": "python",
   "pygments_lexer": "ipython3",
   "version": "3.12.5"
  }
 },
 "nbformat": 4,
 "nbformat_minor": 2
}
